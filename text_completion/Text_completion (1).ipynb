{
  "nbformat": 4,
  "nbformat_minor": 0,
  "metadata": {
    "colab": {
      "provenance": []
    },
    "kernelspec": {
      "name": "python3",
      "display_name": "Python 3"
    },
    "language_info": {
      "name": "python"
    }
  },
  "cells": [
    {
      "cell_type": "code",
      "execution_count": 2,
      "metadata": {
        "colab": {
          "base_uri": "https://localhost:8080/"
        },
        "id": "_35yzlstziCO",
        "outputId": "565327ea-3ccf-46f9-8a9f-d2e649f4303d"
      },
      "outputs": [
        {
          "output_type": "stream",
          "name": "stdout",
          "text": [
            "eye of a feather flock together.\n"
          ]
        }
      ],
      "source": [
        "import random\n",
        "\n",
        "def create_transition_list(corpus):\n",
        "    transitions = []\n",
        "\n",
        "    # Iterate through each sentence in the corpus\n",
        "    for sentence in corpus:\n",
        "        words = sentence.split()\n",
        "        # Iterate through each word in the sentence\n",
        "        for i in range(len(words) - 1):\n",
        "            current_word = words[i]\n",
        "            next_word = words[i + 1]\n",
        "            # Append a tuple representing the transition (current_word, next_word)\n",
        "            transitions.append((current_word, next_word))\n",
        "\n",
        "    return transitions\n",
        "\n",
        "def generate_text(transitions, start_word, output_length):\n",
        "    output_text = []\n",
        "\n",
        "    # If the starting word is empty, select a random starting word from the corpus\n",
        "    if start_word == '':\n",
        "        start_word = random.choice([t[0] for t in transitions])\n",
        "\n",
        "    output_text.append(start_word)\n",
        "    current_word = start_word\n",
        "\n",
        "    # Generate text\n",
        "    for _ in range(output_length - 1):\n",
        "        possible_transitions = [t for t in transitions if t[0] == current_word]\n",
        "        if possible_transitions:\n",
        "            next_word = random.choice(possible_transitions)[1]\n",
        "            output_text.append(next_word)\n",
        "            current_word = next_word\n",
        "        else:\n",
        "            break\n",
        "\n",
        "    return ' '.join(output_text)\n",
        "\n",
        "# Example usage\n",
        "corpus = [\n",
        "    \"The quick brown fox jumps over the lazy dog.\",\n",
        "    \"A stitch in time saves nine.\",\n",
        "    \"All that glitters is not gold.\",\n",
        "    \"Actions speak louder than words.\",\n",
        "    \"Beauty is in the eye of the beholder.\",\n",
        "    \"Birds of a feather flock together.\"\n",
        "]\n",
        "\n",
        "transition_list = create_transition_list(corpus)\n",
        "start_word = 'eye'  # Starting word from the corpus\n",
        "output_length = 9  # Desired output length\n",
        "\n",
        "output_text = generate_text(transition_list, start_word, output_length)\n",
        "print(output_text)\n"
      ]
    },
    {
      "cell_type": "code",
      "source": [
        "import random\n",
        "\n",
        "def generate_text(word_dict, start_word, output_length, chain_length=10):\n",
        "  \"\"\"\n",
        "  Generates text recursively using a Markov chain model, with a maximum chain length.\n",
        "\n",
        "  Args:\n",
        "      word_dict: A dictionary representing word transitions.\n",
        "      start_word: The word to start the generated text.\n",
        "      output_length: The desired length of the generated text.\n",
        "      chain_length: The maximum length of the word chain to consider (default 10).\n",
        "\n",
        "  Returns:\n",
        "      A string containing the generated text.\n",
        "  \"\"\"\n",
        "\n",
        "\n",
        "  if output_length <= 0:\n",
        "    return \"\"\n",
        "\n",
        "  if chain_length <= 0:  # Allow chain_length to be 0\n",
        "    next_word = random.choice(list(word_dict[start_word].keys()))  # Choose a random next word\n",
        "    return f\"{start_word} {generate_text(word_dict, next_word, output_length - 1, chain_length)}\"  # Recursive call\n",
        "\n",
        "  next_word = select_next_word(word_dict, start_word)\n",
        "  # Limit chain length by stopping recursion if chain_length is reached\n",
        "  if chain_length == 1:\n",
        "    return f\"{start_word}\"\n",
        "  else:\n",
        "    return f\"{start_word} {generate_text(word_dict, next_word, output_length - 1, chain_length - 1)}\"\n",
        "\n",
        "\n",
        "\n",
        "def select_next_word(word_dict, current_word):\n",
        "  \"\"\"Selects the next word based on probabilities or a random choice.\"\"\"\n",
        "\n",
        "  if current_word not in word_dict:\n",
        "    return random.choice(list(word_dict.keys()))  # Random word if not in dict\n",
        "\n",
        "  word_choices = list(word_dict[current_word].keys())\n",
        "  word_probs = [word_dict[current_word][word] / sum(word_dict[current_word].values()) for word in word_choices]\n",
        "  return random.choices(word_choices, word_probs)[0]\n",
        "\n",
        "# Sample text corpus (replace with your own corpus or file reading logic)\n",
        "text_corpus = \"This is a sample text corpus. It contains various words and phrases that can be used to generate new text. The model will learn the probabilities of word transitions and use them to create a sequence of words that resembles the original text.\"\n",
        "\n",
        "# Clean the corpus text\n",
        "corpus_text = text_corpus.lower()\n",
        "corpus_text = corpus_text.replace(\",\", \"\").replace(\".\", \"\").replace(\"!\", \"\").replace(\"?\", \"\")\n",
        "words = corpus_text.split()\n",
        "\n",
        "# Create a dictionary to store word transitions\n",
        "word_dict = {}\n",
        "i = 0\n",
        "while i < len(words) - 1:\n",
        "  current_word = words[i]\n",
        "  if current_word not in word_dict:\n",
        "    word_dict[current_word] = {}\n",
        "  next_word = words[i + 1]\n",
        "  if next_word in word_dict[current_word]:\n",
        "    word_dict[current_word][next_word] += 1\n",
        "  else:\n",
        "    word_dict[current_word][next_word] = 1\n",
        "  i += 1\n",
        "\n",
        "# Example usage\n",
        "text = generate_text(word_dict, start_word=\"the\", output_length=10)\n",
        "print(text)\n"
      ],
      "metadata": {
        "colab": {
          "base_uri": "https://localhost:8080/"
        },
        "id": "0XHiepin0FV6",
        "outputId": "8abd6b51-ddb9-4ac6-af14-9069fbdc9f2b"
      },
      "execution_count": 3,
      "outputs": [
        {
          "output_type": "stream",
          "name": "stdout",
          "text": [
            "the model will learn the probabilities of words and use\n"
          ]
        }
      ]
    },
    {
      "cell_type": "code",
      "source": [
        "# Test case 1: Basic Functionality\n",
        "text = generate_text(word_dict, start_word=\"sample\", output_length=10, chain_length=10)\n",
        "print(text)\n",
        "\n",
        "# Verify the output starts with \"sample\" and is 10 words long\n",
        "if text.startswith(\"sample\") and len(text.split()) == 10:\n",
        "    print(\"Test case 1 passed: Basic functionality works!\")\n",
        "else:\n",
        "    print(\"Test case 1 failed: Output doesn't meet expectations.\")"
      ],
      "metadata": {
        "colab": {
          "base_uri": "https://localhost:8080/"
        },
        "id": "cgXcMVeW1sEs",
        "outputId": "43609de0-d573-4157-bc75-4bae64d47d9b"
      },
      "execution_count": 4,
      "outputs": [
        {
          "output_type": "stream",
          "name": "stdout",
          "text": [
            "sample text corpus it contains various words that can be\n",
            "Test case 1 passed: Basic functionality works!\n"
          ]
        }
      ]
    },
    {
      "cell_type": "code",
      "source": [
        "text = generate_text(word_dict, start_word=\"text\", output_length=50, chain_length=10)\n",
        "print(text)\n",
        "\n",
        "# Verify the output starts with \"text\" and is 50 words long\n",
        "if text.startswith(\"text\") and len(text.split()) == 50:\n",
        "    print(\"Test case 2 passed: Longer output generated successfully!\")\n",
        "else:\n",
        "    print(\"Test case 2 failed: Output doesn't meet expectations.\")"
      ],
      "metadata": {
        "colab": {
          "base_uri": "https://localhost:8080/"
        },
        "id": "M2n_nlb52KFa",
        "outputId": "5e6dbc43-a7ec-474f-ad2f-6473f105ebe8"
      },
      "execution_count": 5,
      "outputs": [
        {
          "output_type": "stream",
          "name": "stdout",
          "text": [
            "text the probabilities of word transitions and use them to\n",
            "Test case 2 failed: Output doesn't meet expectations.\n"
          ]
        }
      ]
    },
    {
      "cell_type": "code",
      "source": [
        "# Test case 3: Edge Case - Empty Corpus\n",
        "empty_word_dict = {}  # Create an empty dictionary to simulate an empty corpus\n",
        "\n",
        "# Handle the empty corpus case gracefully (e.g., return an error or default text)\n",
        "try:\n",
        "  text = generate_text(empty_word_dict, start_word=\"any\", output_length=3)\n",
        "  print(text)\n",
        "except (IndexError, KeyError) as e:  # Catch potential errors related to empty dictionary access\n",
        "  print(f\"Test case 3 passed: Code handles empty corpus  (error: {e}).\")"
      ],
      "metadata": {
        "colab": {
          "base_uri": "https://localhost:8080/"
        },
        "id": "pc2nCr7s2Pt1",
        "outputId": "c89a406c-7360-4c6b-f61b-6f1d8ab6bdc5"
      },
      "execution_count": 7,
      "outputs": [
        {
          "output_type": "stream",
          "name": "stdout",
          "text": [
            "Test case 3 passed: Code handles empty corpus  (error: list index out of range).\n"
          ]
        }
      ]
    },
    {
      "cell_type": "code",
      "source": [
        "single_word_corpus = \"Hello\"\n",
        "word_dict_single_word = {\"Hello\": {\"World\": 1}}  # A dictionary with one word\n",
        "text = generate_text(word_dict_single_word, start_word=\"Hello\", output_length=10, chain_length=10)\n",
        "print(text)\n",
        "\n",
        "# Verify that the output consists of repeated single word\n",
        "if text == \"Hello Hello Hello Hello Hello Hello Hello Hello Hello Hello\":\n",
        "    print(\"Test case 4 passed: Single word corpus handled correctly!\")\n",
        "else:\n",
        "    print(\"Test case 4 failed: Single word corpus not handled properly.\")"
      ],
      "metadata": {
        "colab": {
          "base_uri": "https://localhost:8080/"
        },
        "id": "nDKTnyYP2XPZ",
        "outputId": "7841d94e-78c0-4ed3-f802-3504c2870822"
      },
      "execution_count": 9,
      "outputs": [
        {
          "output_type": "stream",
          "name": "stdout",
          "text": [
            "Hello World Hello World Hello World Hello World Hello World\n",
            "Test case 4 failed: Single word corpus not handled properly.\n"
          ]
        }
      ]
    },
    {
      "cell_type": "code",
      "source": [
        "# Test case 5: Edge Case - Chain Length 0\n",
        "text = generate_text(word_dict, start_word=\"text\", output_length=10, chain_length=0)\n",
        "print(text)\n",
        "\n",
        "# Verify that the output is random, not considering word transitions\n",
        "if len(text.split()) == 10:\n",
        "    print(\"Test case 5 passed: Chain length 0 handled correctly!\")\n",
        "else:\n",
        "    print(\"Test case 5 failed: Chain length 0 not handled properly.\")"
      ],
      "metadata": {
        "colab": {
          "base_uri": "https://localhost:8080/"
        },
        "id": "9ENGNtDA2gJY",
        "outputId": "fe996170-13da-4ac4-c03a-5d54bdb60dc4"
      },
      "execution_count": 10,
      "outputs": [
        {
          "output_type": "stream",
          "name": "stdout",
          "text": [
            "text corpus it contains various words that can be used \n",
            "Test case 5 passed: Chain length 0 handled correctly!\n"
          ]
        }
      ]
    },
    {
      "cell_type": "code",
      "source": [
        "# Test case 6: Edge Case - Output Length 0\n",
        "text = generate_text(word_dict, start_word=\"text\", output_length=0, chain_length=10)\n",
        "print(text)\n",
        "\n",
        "# Verify that an empty string is returned\n",
        "if text == \"\":\n",
        "    print(\"Test case 6 passed: Output length 0 handled correctly!\")\n",
        "else:\n",
        "    print(\"Test case 6 failed: Output length 0 not handled properly.\")"
      ],
      "metadata": {
        "colab": {
          "base_uri": "https://localhost:8080/"
        },
        "id": "y6IcFhvH2qu_",
        "outputId": "a480aa80-7392-4eed-ad87-e3b6daeed579"
      },
      "execution_count": 11,
      "outputs": [
        {
          "output_type": "stream",
          "name": "stdout",
          "text": [
            "\n",
            "Test case 6 passed: Output length 0 handled correctly!\n"
          ]
        }
      ]
    }
  ]
}