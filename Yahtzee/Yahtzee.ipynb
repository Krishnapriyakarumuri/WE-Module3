{
  "nbformat": 4,
  "nbformat_minor": 0,
  "metadata": {
    "colab": {
      "provenance": []
    },
    "kernelspec": {
      "name": "python3",
      "display_name": "Python 3"
    },
    "language_info": {
      "name": "python"
    }
  },
  "cells": [
    {
      "cell_type": "code",
      "execution_count": 1,
      "metadata": {
        "id": "un7sKne2_Awa"
      },
      "outputs": [],
      "source": [
        "import random\n",
        "\n",
        "def roll_dice(num_dice):\n",
        "  \"\"\"Rolls the specified number of dice and returns a list of results.\n",
        "\n",
        "  Args:\n",
        "      num_dice (int): The number of dice to roll (must be greater than 0).\n",
        "\n",
        "  Returns:\n",
        "      list[int]: A list containing the results of each die roll (values between 1 and 6).\n",
        "\n",
        "  Raises:\n",
        "      ValueError: If the provided number of dice is less than or equal to 0.\n",
        "  \"\"\"\n",
        "  if num_dice <= 0:\n",
        "    raise ValueError(\"Number of dice must be greater than 0.\")\n",
        "  return [random.randint(1, 6) for _ in range(num_dice)]"
      ]
    },
    {
      "cell_type": "code",
      "source": [
        "def re_roll(dice, choices):\n",
        "  \"\"\"Re-rolls dice based on user choices and returns a new list.\n",
        "\n",
        "  Args:\n",
        "      dice (list[int]): The current list of dice values.\n",
        "      choices (list[str]): A list of strings representing the dice indices to re-roll (e.g., [\"1\", \"3\"]).\n",
        "\n",
        "  Returns:\n",
        "      list[int]: A new list with the re-rolled dice based on the provided choices.\n",
        "  \"\"\"\n",
        "  new_dice = dice.copy()\n",
        "  for i in choices:\n",
        "    new_dice[int(i)-1] = random.randint(1, 6)\n",
        "  return new_dice"
      ],
      "metadata": {
        "id": "ELGMDZWd_jAx"
      },
      "execution_count": 2,
      "outputs": []
    },
    {
      "cell_type": "code",
      "source": [
        "def calculate_score(dice, category):\n",
        "  \"\"\"Calculates score based on the chosen category and dice roll.\n",
        "\n",
        "  Args:\n",
        "      dice (list[int]): The current list of dice values.\n",
        "      category (str): The scoring category (e.g., \"ones\", \"twos\", \"yahtzee\").\n",
        "\n",
        "  Returns:\n",
        "      int: The score for the chosen category based on the dice roll.\n",
        "  \"\"\"\n",
        "  score = 0\n",
        "  if category == \"ones\":\n",
        "    score = sum(die for die in dice if die == 1)\n",
        "  elif category == \"twos\":\n",
        "    score = sum(die for die in dice if die == 2)\n",
        "  # ... (similar logic for other categories)\n",
        "  elif category == \"yahtzee\":\n",
        "    if all(die == dice[0] for die in dice):\n",
        "      score = 50\n",
        "  else:\n",
        "    score = sum(dice)  # Chance category\n",
        "  return score"
      ],
      "metadata": {
        "id": "TqO0-ZdB_unh"
      },
      "execution_count": 3,
      "outputs": []
    },
    {
      "cell_type": "code",
      "source": [
        "def score(dice: list[int]) -> dict[str, int]:\n",
        "  \"\"\"\n",
        "  Calculates the score for each Yahtzee category for a given dice roll.\n",
        "\n",
        "  Args:\n",
        "      dice: A list of integers representing the rolled dice values (1-6).\n",
        "\n",
        "  Returns:\n",
        "      A dictionary where keys are Yahtzee category names (strings) and values are\n",
        "      corresponding scores (integers).\n",
        "  \"\"\"\n",
        "  scores = {\n",
        "      \"ones\": sum(die == 1 for die in dice),\n",
        "      \"twos\": sum(die == 2 for die in dice),\n",
        "      \"threes\": sum(die == 3 for die in dice),\n",
        "      \"fours\": sum(die == 4 for die in dice),\n",
        "      \"fives\": sum(die == 5 for die in dice),\n",
        "      \"sixes\": sum(die == 6 for die in dice),\n",
        "      \"three_of_a_kind\": sum(dice) if len(set(dice)) <= 3 else 0,\n",
        "      \"four_of_a_kind\": sum(dice) if len(set(dice)) <= 2 else 0,\n",
        "      \"full_house\": 25 if (len(set(dice)) == 2 and (2 in dice.count(dice[0]) or 3 in dice.count(dice[0]))) else 0,\n",
        "      \"small_straight\": 30 if sorted(dice) == [1, 2, 3, 4] or sorted(dice) == [2, 3, 4, 5] else 0,\n",
        "      \"large_straight\": 40 if sorted(dice) == [1, 2, 3, 4, 5] or sorted(dice) == [2, 3, 4, 5, 6] else 0,\n",
        "      \"yahtzee\": 50 if all(dice.count(val) == 1 for val in dice) else 0,\n",
        "      \"chance\": sum(dice),\n",
        "  }\n",
        "  return scores"
      ],
      "metadata": {
        "id": "X7b775-b_0_V"
      },
      "execution_count": 4,
      "outputs": []
    },
    {
      "cell_type": "code",
      "source": [
        "def is_category_available(scores, category):\n",
        "  \"\"\"Checks if the chosen scoring category is available.\n",
        "\n",
        "  Args:\n",
        "      scores (dict[str, int]): The current Yahtzee scorecard with categories and scores.\n",
        "      category (str): The scoring category to check for availability.\n",
        "\n",
        "  Returns:\n",
        "      bool: True if the category is not yet used (score is None), False otherwise.\n",
        "  \"\"\"\n",
        "  return scores[category] is None"
      ],
      "metadata": {
        "id": "OeI05l0nACI9"
      },
      "execution_count": 5,
      "outputs": []
    },
    {
      "cell_type": "code",
      "source": [
        "def choose_best_move_simple(dice: list[int], available_scores: dict[str, bool]) -> str:\n",
        "  \"\"\"\n",
        "  Chooses the best move (category) based on the highest fixed score\n",
        "  among available categories.\n",
        "\n",
        "  Args:\n",
        "      dice: A list of integers representing the rolled dice values (1-6).\n",
        "      available_scores: A dictionary where keys are Yahtzee category names\n",
        "                         (strings) and values are True/False indicating\n",
        "                         availability.\n",
        "\n",
        "  Returns:\n",
        "      A string representing the Yahtzee category with the highest\n",
        "      fixed score (e.g., Yahtzee, Full House) among available categories.\n",
        "  \"\"\"\n",
        "  best_score = 0\n",
        "  best_category = None\n",
        "  for category, available in available_scores.items():\n",
        "    if available:\n",
        "      category_score = calculate_score(dice, category)\n",
        "      if category_score > best_score and category_score in (50, 40, 25):  # Fixed high-scoring categories\n",
        "        best_score = category_score\n",
        "        best_category = category\n",
        "  return best_category or \"re-roll\"  # Return \"re-roll\" if no available category found"
      ],
      "metadata": {
        "id": "w9J-2X-pAOVP"
      },
      "execution_count": 6,
      "outputs": []
    },
    {
      "cell_type": "code",
      "source": [
        "def display_scoreboard(scores):\n",
        "  \"\"\"Prints the current state of the Yahtzee scorecard.\n",
        "\n",
        "  Args:\n",
        "      scores (dict[str, int]): The current Yahtzee scorecard with categories and scores.\n",
        "  \"\"\"\n",
        "  print(\"Yahtzee Scorecard:\")\n",
        "  for category, score in scores.items():\n",
        "    print(f\"- {category}: {score}\")"
      ],
      "metadata": {
        "id": "8y973nS5AUWE"
      },
      "execution_count": 7,
      "outputs": []
    },
    {
      "cell_type": "code",
      "source": [
        "def get_user_choice(prompt, valid_options):\n",
        "  \"\"\"Gets user input with validation based on provided options.\n",
        "\n",
        "  Args:\n",
        "      prompt (str): The message to display to the user requesting input.\n",
        "      valid_options (list[str]): A list of valid options the user can choose from.\n",
        "\n",
        "  Returns:\n",
        "      str: The user's chosen option from the list of valid options.\n",
        "  \"\"\"\n",
        "  while True:\n",
        "    choice = input(prompt)\n",
        "    if choice in valid_options:\n",
        "      return choice\n",
        "    else:\n",
        "      print(\"Invalid choice. Please try again.\")"
      ],
      "metadata": {
        "id": "tYPe-blTAZdc"
      },
      "execution_count": 8,
      "outputs": []
    },
    {
      "cell_type": "code",
      "source": [
        "def get_re_roll_choices(dice):\n",
        "  \"\"\"Prompts user for dice to re-roll and returns a list of choices.\n",
        "\n",
        "  Args:\n",
        "      dice (list[int]): The current list of dice values.\n",
        "\n",
        "  Returns:\n",
        "      list[str]: A list of strings representing the dice indices the user wants to re-roll.\n",
        "  \"\"\"\n",
        "  valid_choices = [str(i) for i in range(1, len(dice) + 1)]\n",
        "  return get_user_choice(\"Enter dice to re-roll (e.g., 1 2 4): \", valid_choices).split()"
      ],
      "metadata": {
        "id": "aFcbGcq7AeKb"
      },
      "execution_count": 9,
      "outputs": []
    },
    {
      "cell_type": "code",
      "source": [
        "def get_scoring_category(scores):\n",
        "  \"\"\"Prompts user for a scoring category and validates availability.\"\"\"\n",
        "  available_categories = [category for category, score in scores.items() if score is None]\n",
        "  return get_user_choice(\"Choose a scoring category: \", available_categories)"
      ],
      "metadata": {
        "id": "jPAHnmoKAlEJ"
      },
      "execution_count": 10,
      "outputs": []
    },
    {
      "cell_type": "code",
      "source": [
        "def show_dice(dice):\n",
        "  \"\"\"Displays the current roll of the dice.\"\"\"\n",
        "  print(\"Current roll:\", dice)\n"
      ],
      "metadata": {
        "id": "-1814CJeAxWo"
      },
      "execution_count": 11,
      "outputs": []
    },
    {
      "cell_type": "code",
      "source": [
        "def show_scores(scores):\n",
        "  \"\"\"Displays the current Yahtzee scorecard.\"\"\"\n",
        "  display_scoreboard(scores)"
      ],
      "metadata": {
        "id": "SFOz15mKA0-J"
      },
      "execution_count": 12,
      "outputs": []
    },
    {
      "cell_type": "code",
      "source": [
        "def track_score_history(score_history, turn, roll, dice, category, score):\n",
        "  \"\"\"Tracks the history of rolls, dice, and scores for analysis.\"\"\"\n",
        "  score_history.append({\n",
        "      \"turn\": turn,\n",
        "      \"roll\": roll,\n",
        "      \"dice\": dice,\n",
        "      \"category\": category,\n",
        "      \"score\": score\n",
        "  })"
      ],
      "metadata": {
        "id": "u_fUT14yA5mg"
      },
      "execution_count": 13,
      "outputs": []
    },
    {
      "cell_type": "code",
      "source": [
        "import unittest\n",
        "import random\n",
        "\n",
        "# Define the roll_dice function (assuming it's not already defined elsewhere)\n",
        "def roll_dice(num_dice):\n",
        "  \"\"\"\n",
        "  Simulates rolling a specified number of dice.\n",
        "\n",
        "  Args:\n",
        "      num_dice: An integer representing the number of dice to roll.\n",
        "\n",
        "  Returns:\n",
        "      A list of integers representing the rolled dice values (1-6).\n",
        "  \"\"\"\n",
        "  if num_dice <= 0:\n",
        "    raise ValueError(\"Number of dice must be a positive integer.\")\n",
        "\n",
        "  return [random.randint(1, 6) for _ in range(num_dice)]\n",
        "\n",
        "# Test Cases (adapted as functions for easier execution)\n",
        "def test_roll_dice_5():\n",
        "  \"\"\"Test rolling 5 dice, expect a list of 5 random integers between 1 and 6.\"\"\"\n",
        "  rolled_dice = roll_dice(5)\n",
        "  if len(rolled_dice) != 5:\n",
        "    print(\"Error: Incorrect number of dice rolled.\")\n",
        "    return\n",
        "  for die in rolled_dice:\n",
        "    if not (1 <= die <= 6):\n",
        "      print(\"Error: Die value outside valid range (1-6).\")\n",
        "      return\n",
        "  print(\"Test Passed: Roll_dice(5) returned a valid list of 5 dice values.\")\n",
        "\n",
        "def test_roll_dice_0():\n",
        "  \"\"\"Test rolling 0 dice, expect a ValueError for invalid input.\"\"\"\n",
        "  try:\n",
        "    roll_dice(0)\n",
        "  except ValueError as e:\n",
        "    print(\"Test Passed: Roll_dice(0) raised a ValueError:\", e)\n",
        "  else:\n",
        "    print(\"Error: Roll_dice(0) did not raise a ValueError.\")\n",
        "\n",
        "def test_roll_dice_multiple():\n",
        "  \"\"\"Test rolling dice multiple times, verify different results.\"\"\"\n",
        "  rolls = [roll_dice(5) for _ in range(3)]\n",
        "  if rolls[0] == rolls[1]:\n",
        "    print(\"Error: Consecutive rolls produced identical results.\")\n",
        "  elif rolls[1] == rolls[2]:\n",
        "    print(\"Error: Consecutive rolls produced identical results.\")\n",
        "  else:\n",
        "    print(\"Test Passed: Multiple rolls produced different results.\")\n",
        "\n",
        "# Execute Test Cases\n",
        "test_roll_dice_5()\n",
        "test_roll_dice_0()\n",
        "test_roll_dice_multiple()"
      ],
      "metadata": {
        "colab": {
          "base_uri": "https://localhost:8080/"
        },
        "id": "0nULvbVBA_bF",
        "outputId": "62168233-2965-482f-85d6-c1a927be2ee3"
      },
      "execution_count": 14,
      "outputs": [
        {
          "output_type": "stream",
          "name": "stdout",
          "text": [
            "Test Passed: Roll_dice(5) returned a valid list of 5 dice values.\n",
            "Test Passed: Roll_dice(0) raised a ValueError: Number of dice must be a positive integer.\n",
            "Test Passed: Multiple rolls produced different results.\n"
          ]
        }
      ]
    }
  ]
}