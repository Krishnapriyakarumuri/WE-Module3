{
  "nbformat": 4,
  "nbformat_minor": 0,
  "metadata": {
    "colab": {
      "provenance": []
    },
    "kernelspec": {
      "name": "python3",
      "display_name": "Python 3"
    },
    "language_info": {
      "name": "python"
    }
  },
  "cells": [
    {
      "cell_type": "code",
      "execution_count": null,
      "metadata": {
        "id": "VYgwn0dWXytr",
        "outputId": "30923185-7d26-4bc3-e600-8241fdbba69e",
        "colab": {
          "base_uri": "https://localhost:8080/"
        }
      },
      "outputs": [
        {
          "output_type": "stream",
          "name": "stdout",
          "text": [
            "{'Ones': 1, 'Twos': 0, 'Threes': 6, 'Fours': 4, 'Fives': 0, 'Sixes': 6, 'Three of a Kind': 0, 'Four of a Kind': 0, 'Full House': 0, 'Small Straight': 0, 'Large Straight': 0, 'Yahtzee': 0, 'Chance': 17}\n"
          ]
        }
      ],
      "source": [
        "def score(dice):\n",
        "    # Initialize the dictionary to store scores for each category\n",
        "    scores = {\n",
        "        \"Ones\": sum(d for d in dice if d == 1),\n",
        "        \"Twos\": sum(d for d in dice if d == 2),\n",
        "        \"Threes\": sum(d for d in dice if d == 3),\n",
        "        \"Fours\": sum(d for d in dice if d == 4),\n",
        "        \"Fives\": sum(d for d in dice if d == 5),\n",
        "        \"Sixes\": sum(d for d in dice if d == 6),\n",
        "        \"Three of a Kind\": sum(dice) if any(dice.count(d) >= 3 for d in dice) else 0,\n",
        "        \"Four of a Kind\": sum(dice) if any(dice.count(d) >= 4 for d in dice) else 0,\n",
        "        \"Full House\": 25 if any(dice.count(d) == 3 for d in dice) and any(dice.count(d) == 2 for d in dice) else 0,\n",
        "        \"Small Straight\": 30 if sorted(dice) in ([1, 2, 3, 4], [2, 3, 4, 5], [3, 4, 5, 6]) else 0,\n",
        "        \"Large Straight\": 40 if sorted(dice) in ([1, 2, 3, 4, 5], [2, 3, 4, 5, 6]) else 0,\n",
        "        \"Yahtzee\": 50 if any(dice.count(d) == 5 for d in dice) else 0,\n",
        "        \"Chance\": sum(dice)\n",
        "    }\n",
        "    return scores\n",
        "\n",
        "\n",
        "print(score([3, 3, 4, 6, 1]))\n"
      ]
    },
    {
      "cell_type": "code",
      "source": [
        "print(score([1, 1, 1, 1, 1]))"
      ],
      "metadata": {
        "colab": {
          "base_uri": "https://localhost:8080/"
        },
        "id": "vz7biarH6PbJ",
        "outputId": "7a44d678-f233-4ff1-b7fe-2430989cac33"
      },
      "execution_count": null,
      "outputs": [
        {
          "output_type": "stream",
          "name": "stdout",
          "text": [
            "{'Ones': 5, 'Twos': 0, 'Threes': 0, 'Fours': 0, 'Fives': 0, 'Sixes': 0, 'Three of a Kind': 5, 'Four of a Kind': 5, 'Full House': 0, 'Small Straight': 0, 'Large Straight': 0, 'Yahtzee': 50, 'Chance': 5}\n"
          ]
        }
      ]
    },
    {
      "cell_type": "code",
      "source": [
        "print(score([2, 2, 3, 3, 3]))"
      ],
      "metadata": {
        "colab": {
          "base_uri": "https://localhost:8080/"
        },
        "id": "XRUjJpee6y4c",
        "outputId": "1af714e1-2409-4f23-d27e-c5564ceb8384"
      },
      "execution_count": null,
      "outputs": [
        {
          "output_type": "stream",
          "name": "stdout",
          "text": [
            "{'Ones': 0, 'Twos': 4, 'Threes': 9, 'Fours': 0, 'Fives': 0, 'Sixes': 0, 'Three of a Kind': 13, 'Four of a Kind': 0, 'Full House': 25, 'Small Straight': 0, 'Large Straight': 0, 'Yahtzee': 0, 'Chance': 13}\n"
          ]
        }
      ]
    },
    {
      "cell_type": "code",
      "source": [
        "print(score([3, 3, 3, 4, 5]))"
      ],
      "metadata": {
        "colab": {
          "base_uri": "https://localhost:8080/"
        },
        "id": "ZXEVpLSK6zVY",
        "outputId": "a63e1a5a-94bd-4550-c4ef-9a4a2d211a41"
      },
      "execution_count": null,
      "outputs": [
        {
          "output_type": "stream",
          "name": "stdout",
          "text": [
            "{'Ones': 0, 'Twos': 0, 'Threes': 9, 'Fours': 4, 'Fives': 5, 'Sixes': 0, 'Three of a Kind': 18, 'Four of a Kind': 0, 'Full House': 0, 'Small Straight': 0, 'Large Straight': 0, 'Yahtzee': 0, 'Chance': 18}\n"
          ]
        }
      ]
    },
    {
      "cell_type": "code",
      "source": [
        "print(score([1, 2, 3, 4, 5]))"
      ],
      "metadata": {
        "colab": {
          "base_uri": "https://localhost:8080/"
        },
        "id": "ylYJ8RYT6z8f",
        "outputId": "9a577902-8452-4969-bfba-d4e18ce76bb6"
      },
      "execution_count": null,
      "outputs": [
        {
          "output_type": "stream",
          "name": "stdout",
          "text": [
            "{'Ones': 1, 'Twos': 2, 'Threes': 3, 'Fours': 4, 'Fives': 5, 'Sixes': 0, 'Three of a Kind': 0, 'Four of a Kind': 0, 'Full House': 0, 'Small Straight': 0, 'Large Straight': 40, 'Yahtzee': 0, 'Chance': 15}\n"
          ]
        }
      ]
    },
    {
      "cell_type": "code",
      "source": [
        "print(score([6, 6, 6, 6, 6]))"
      ],
      "metadata": {
        "colab": {
          "base_uri": "https://localhost:8080/"
        },
        "id": "Frz-Pnry60XR",
        "outputId": "2e890fe6-d504-4932-ae89-1336e90a6e96"
      },
      "execution_count": null,
      "outputs": [
        {
          "output_type": "stream",
          "name": "stdout",
          "text": [
            "{'Ones': 0, 'Twos': 0, 'Threes': 0, 'Fours': 0, 'Fives': 0, 'Sixes': 30, 'Three of a Kind': 30, 'Four of a Kind': 30, 'Full House': 0, 'Small Straight': 0, 'Large Straight': 0, 'Yahtzee': 50, 'Chance': 30}\n"
          ]
        }
      ]
    },
    {
      "cell_type": "code",
      "source": [
        "print(score([1, 2, 3, 4, 4]))"
      ],
      "metadata": {
        "colab": {
          "base_uri": "https://localhost:8080/"
        },
        "id": "dxEVw19861IL",
        "outputId": "46ac46d4-3d01-41e2-b17e-48445489192b"
      },
      "execution_count": null,
      "outputs": [
        {
          "output_type": "stream",
          "name": "stdout",
          "text": [
            "{'Ones': 1, 'Twos': 2, 'Threes': 3, 'Fours': 8, 'Fives': 0, 'Sixes': 0, 'Three of a Kind': 0, 'Four of a Kind': 0, 'Full House': 0, 'Small Straight': 0, 'Large Straight': 0, 'Yahtzee': 0, 'Chance': 14}\n"
          ]
        }
      ]
    },
    {
      "cell_type": "code",
      "source": [
        "print(score([1, 2, 3, 5, 6]))"
      ],
      "metadata": {
        "colab": {
          "base_uri": "https://localhost:8080/"
        },
        "id": "D0zuaeu961xN",
        "outputId": "2ee4c75b-8df1-460a-e562-8ab499ea5bd0"
      },
      "execution_count": null,
      "outputs": [
        {
          "output_type": "stream",
          "name": "stdout",
          "text": [
            "{'Ones': 1, 'Twos': 2, 'Threes': 3, 'Fours': 0, 'Fives': 5, 'Sixes': 6, 'Three of a Kind': 0, 'Four of a Kind': 0, 'Full House': 0, 'Small Straight': 0, 'Large Straight': 0, 'Yahtzee': 0, 'Chance': 17}\n"
          ]
        }
      ]
    },
    {
      "cell_type": "code",
      "source": [
        "print(score([1, 1, 3, 4, 6]))"
      ],
      "metadata": {
        "colab": {
          "base_uri": "https://localhost:8080/"
        },
        "id": "kFejI-qn62S_",
        "outputId": "59f32699-5564-43d2-b6c8-68b324666177"
      },
      "execution_count": null,
      "outputs": [
        {
          "output_type": "stream",
          "name": "stdout",
          "text": [
            "{'Ones': 2, 'Twos': 0, 'Threes': 3, 'Fours': 4, 'Fives': 0, 'Sixes': 6, 'Three of a Kind': 0, 'Four of a Kind': 0, 'Full House': 0, 'Small Straight': 0, 'Large Straight': 0, 'Yahtzee': 0, 'Chance': 15}\n"
          ]
        }
      ]
    },
    {
      "cell_type": "code",
      "source": [
        "print(score([1, 2, 2, 3, 3]))"
      ],
      "metadata": {
        "colab": {
          "base_uri": "https://localhost:8080/"
        },
        "id": "Il8W3V2G63IF",
        "outputId": "5b2b2026-a729-48e1-812a-11ee509e256d"
      },
      "execution_count": null,
      "outputs": [
        {
          "output_type": "stream",
          "name": "stdout",
          "text": [
            "{'Ones': 1, 'Twos': 4, 'Threes': 6, 'Fours': 0, 'Fives': 0, 'Sixes': 0, 'Three of a Kind': 0, 'Four of a Kind': 0, 'Full House': 0, 'Small Straight': 0, 'Large Straight': 0, 'Yahtzee': 0, 'Chance': 11}\n"
          ]
        }
      ]
    },
    {
      "cell_type": "code",
      "source": [
        "print(score([6, 6, 4, 5, 1]))"
      ],
      "metadata": {
        "colab": {
          "base_uri": "https://localhost:8080/"
        },
        "id": "E4VBer_M630p",
        "outputId": "2d41379f-1466-4afa-9da3-80d43450882a"
      },
      "execution_count": null,
      "outputs": [
        {
          "output_type": "stream",
          "name": "stdout",
          "text": [
            "{'Ones': 1, 'Twos': 0, 'Threes': 0, 'Fours': 4, 'Fives': 5, 'Sixes': 12, 'Three of a Kind': 0, 'Four of a Kind': 0, 'Full House': 0, 'Small Straight': 0, 'Large Straight': 0, 'Yahtzee': 0, 'Chance': 22}\n"
          ]
        }
      ]
    },
    {
      "cell_type": "code",
      "source": [
        "print(score([1, 2, 2, 3, 3]))"
      ],
      "metadata": {
        "colab": {
          "base_uri": "https://localhost:8080/"
        },
        "id": "FuFlQTOB64bb",
        "outputId": "01bf1692-8465-4aad-f754-02a98297eb5f"
      },
      "execution_count": null,
      "outputs": [
        {
          "output_type": "stream",
          "name": "stdout",
          "text": [
            "{'Ones': 1, 'Twos': 4, 'Threes': 6, 'Fours': 0, 'Fives': 0, 'Sixes': 0, 'Three of a Kind': 0, 'Four of a Kind': 0, 'Full House': 0, 'Small Straight': 0, 'Large Straight': 0, 'Yahtzee': 0, 'Chance': 11}\n"
          ]
        }
      ]
    },
    {
      "cell_type": "code",
      "source": [
        "print(score([1, 1, 3, 4, 6]))"
      ],
      "metadata": {
        "colab": {
          "base_uri": "https://localhost:8080/"
        },
        "id": "qMIrW3Us65Fi",
        "outputId": "f393eec0-17da-41f9-8603-cf4301145636"
      },
      "execution_count": null,
      "outputs": [
        {
          "output_type": "stream",
          "name": "stdout",
          "text": [
            "{'Ones': 2, 'Twos': 0, 'Threes': 3, 'Fours': 4, 'Fives': 0, 'Sixes': 6, 'Three of a Kind': 0, 'Four of a Kind': 0, 'Full House': 0, 'Small Straight': 0, 'Large Straight': 0, 'Yahtzee': 0, 'Chance': 15}\n"
          ]
        }
      ]
    },
    {
      "cell_type": "code",
      "source": [
        "print(score([2, 5]))"
      ],
      "metadata": {
        "colab": {
          "base_uri": "https://localhost:8080/"
        },
        "id": "jgON9DQX65uB",
        "outputId": "fad5f01a-4418-4cba-c76f-7160c51bf3ed"
      },
      "execution_count": null,
      "outputs": [
        {
          "output_type": "stream",
          "name": "stdout",
          "text": [
            "{'Ones': 0, 'Twos': 2, 'Threes': 0, 'Fours': 0, 'Fives': 5, 'Sixes': 0, 'Three of a Kind': 0, 'Four of a Kind': 0, 'Full House': 0, 'Small Straight': 0, 'Large Straight': 0, 'Yahtzee': 0, 'Chance': 7}\n"
          ]
        }
      ]
    },
    {
      "cell_type": "code",
      "source": [
        "print(score([2, 2, 2, 2, 5]))"
      ],
      "metadata": {
        "colab": {
          "base_uri": "https://localhost:8080/"
        },
        "id": "bTyEDMIR66U1",
        "outputId": "e6858071-900a-47fa-e91f-097635012c35"
      },
      "execution_count": null,
      "outputs": [
        {
          "output_type": "stream",
          "name": "stdout",
          "text": [
            "{'Ones': 0, 'Twos': 8, 'Threes': 0, 'Fours': 0, 'Fives': 5, 'Sixes': 0, 'Three of a Kind': 13, 'Four of a Kind': 13, 'Full House': 0, 'Small Straight': 0, 'Large Straight': 0, 'Yahtzee': 0, 'Chance': 13}\n"
          ]
        }
      ]
    },
    {
      "cell_type": "code",
      "source": [
        "print(score([1, 2, 3, 4, 4]))"
      ],
      "metadata": {
        "colab": {
          "base_uri": "https://localhost:8080/"
        },
        "id": "teYIjjNo8811",
        "outputId": "458a9a05-dc71-426a-f0a7-e29f95ab664f"
      },
      "execution_count": null,
      "outputs": [
        {
          "output_type": "stream",
          "name": "stdout",
          "text": [
            "{'Ones': 1, 'Twos': 2, 'Threes': 3, 'Fours': 8, 'Fives': 0, 'Sixes': 0, 'Three of a Kind': 0, 'Four of a Kind': 0, 'Full House': 0, 'Small Straight': 0, 'Large Straight': 0, 'Yahtzee': 0, 'Chance': 14}\n"
          ]
        }
      ]
    },
    {
      "cell_type": "code",
      "source": [
        "print(score([2, 3, 4, 5, 6]))"
      ],
      "metadata": {
        "colab": {
          "base_uri": "https://localhost:8080/"
        },
        "id": "plTw2oA589QU",
        "outputId": "fd9d04f6-33f8-4602-b7ac-67226f652d2a"
      },
      "execution_count": null,
      "outputs": [
        {
          "output_type": "stream",
          "name": "stdout",
          "text": [
            "{'Ones': 0, 'Twos': 2, 'Threes': 3, 'Fours': 4, 'Fives': 5, 'Sixes': 6, 'Three of a Kind': 0, 'Four of a Kind': 0, 'Full House': 0, 'Small Straight': 0, 'Large Straight': 40, 'Yahtzee': 0, 'Chance': 20}\n"
          ]
        }
      ]
    },
    {
      "cell_type": "code",
      "source": [
        "print(score([1, 2, 3, 5, 6]))"
      ],
      "metadata": {
        "colab": {
          "base_uri": "https://localhost:8080/"
        },
        "id": "-m_tOK8e89n3",
        "outputId": "bc94f1a2-4413-4c35-cc80-2f36db6ce240"
      },
      "execution_count": null,
      "outputs": [
        {
          "output_type": "stream",
          "name": "stdout",
          "text": [
            "{'Ones': 1, 'Twos': 2, 'Threes': 3, 'Fours': 0, 'Fives': 5, 'Sixes': 6, 'Three of a Kind': 0, 'Four of a Kind': 0, 'Full House': 0, 'Small Straight': 0, 'Large Straight': 0, 'Yahtzee': 0, 'Chance': 17}\n"
          ]
        }
      ]
    },
    {
      "cell_type": "code",
      "source": [
        "print(score([3, 3, 3, 3, 3]))"
      ],
      "metadata": {
        "colab": {
          "base_uri": "https://localhost:8080/"
        },
        "id": "yDFcAokp8-K_",
        "outputId": "83055f07-7043-41ea-dbde-adb2610d40cf"
      },
      "execution_count": null,
      "outputs": [
        {
          "output_type": "stream",
          "name": "stdout",
          "text": [
            "{'Ones': 0, 'Twos': 0, 'Threes': 15, 'Fours': 0, 'Fives': 0, 'Sixes': 0, 'Three of a Kind': 15, 'Four of a Kind': 15, 'Full House': 0, 'Small Straight': 0, 'Large Straight': 0, 'Yahtzee': 50, 'Chance': 15}\n"
          ]
        }
      ]
    },
    {
      "cell_type": "code",
      "source": [
        "print(score([2, 6, 6, 2, 2]))"
      ],
      "metadata": {
        "colab": {
          "base_uri": "https://localhost:8080/"
        },
        "id": "upwzkjGq8-na",
        "outputId": "55c51eb4-0b6e-42fa-af53-eca84540d663"
      },
      "execution_count": null,
      "outputs": [
        {
          "output_type": "stream",
          "name": "stdout",
          "text": [
            "{'Ones': 0, 'Twos': 6, 'Threes': 0, 'Fours': 0, 'Fives': 0, 'Sixes': 12, 'Three of a Kind': 18, 'Four of a Kind': 0, 'Full House': 25, 'Small Straight': 0, 'Large Straight': 0, 'Yahtzee': 0, 'Chance': 18}\n"
          ]
        }
      ]
    },
    {
      "cell_type": "code",
      "source": [
        "print(score([4, 4, 4, 4, 3]))"
      ],
      "metadata": {
        "colab": {
          "base_uri": "https://localhost:8080/"
        },
        "id": "D5nWW_-U8_GX",
        "outputId": "6500b2ed-a2a0-4024-a70b-902862608b3d"
      },
      "execution_count": null,
      "outputs": [
        {
          "output_type": "stream",
          "name": "stdout",
          "text": [
            "{'Ones': 0, 'Twos': 0, 'Threes': 3, 'Fours': 16, 'Fives': 0, 'Sixes': 0, 'Three of a Kind': 19, 'Four of a Kind': 19, 'Full House': 0, 'Small Straight': 0, 'Large Straight': 0, 'Yahtzee': 0, 'Chance': 19}\n"
          ]
        }
      ]
    },
    {
      "cell_type": "code",
      "source": [
        "print(score([1, 2, 2, 3, 3]))"
      ],
      "metadata": {
        "colab": {
          "base_uri": "https://localhost:8080/"
        },
        "id": "r1J_RIar8_jk",
        "outputId": "6db427c3-2c08-4373-e7b4-15bf93b539d9"
      },
      "execution_count": null,
      "outputs": [
        {
          "output_type": "stream",
          "name": "stdout",
          "text": [
            "{'Ones': 1, 'Twos': 4, 'Threes': 6, 'Fours': 0, 'Fives': 0, 'Sixes': 0, 'Three of a Kind': 0, 'Four of a Kind': 0, 'Full House': 0, 'Small Straight': 0, 'Large Straight': 0, 'Yahtzee': 0, 'Chance': 11}\n"
          ]
        }
      ]
    },
    {
      "cell_type": "code",
      "source": [],
      "metadata": {
        "id": "cf8kGFU937YH"
      },
      "execution_count": null,
      "outputs": []
    },
    {
      "cell_type": "code",
      "source": [],
      "metadata": {
        "id": "74BCsJJo37xB"
      },
      "execution_count": null,
      "outputs": []
    },
    {
      "cell_type": "code",
      "source": [],
      "metadata": {
        "id": "HGz-uDAx38Gs"
      },
      "execution_count": null,
      "outputs": []
    },
    {
      "cell_type": "code",
      "source": [],
      "metadata": {
        "id": "JiVRpMlU38jM"
      },
      "execution_count": null,
      "outputs": []
    },
    {
      "cell_type": "code",
      "source": [],
      "metadata": {
        "id": "QB646HGd39Br"
      },
      "execution_count": null,
      "outputs": []
    },
    {
      "cell_type": "code",
      "source": [],
      "metadata": {
        "id": "WZo20nAj39t8"
      },
      "execution_count": null,
      "outputs": []
    }
  ]
}